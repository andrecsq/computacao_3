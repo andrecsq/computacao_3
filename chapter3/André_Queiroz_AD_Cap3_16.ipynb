{
  "nbformat": 4,
  "nbformat_minor": 0,
  "metadata": {
    "colab": {
      "name": "André Queiroz AD Cap3 16.ipynb",
      "provenance": [],
      "toc_visible": true,
      "authorship_tag": "ABX9TyPTl7MLVSAojQaDOusJzeL/",
      "include_colab_link": true
    },
    "kernelspec": {
      "name": "python3",
      "display_name": "Python 3"
    }
  },
  "cells": [
    {
      "cell_type": "markdown",
      "metadata": {
        "id": "view-in-github",
        "colab_type": "text"
      },
      "source": [
        "<a href=\"https://colab.research.google.com/github/andrecsq/computacao_3/blob/main/chapter3/Andr%C3%A9_Queiroz_AD_Cap3_16.ipynb\" target=\"_parent\"><img src=\"https://colab.research.google.com/assets/colab-badge.svg\" alt=\"Open In Colab\"/></a>"
      ]
    },
    {
      "cell_type": "markdown",
      "metadata": {
        "id": "oj5CJx1Eyj-x"
      },
      "source": [
        "## 3.16 As in the previous exercise, find the expected return time from a corner square for the following chess pieces: \r\n",
        "- (i) queen, \r\n",
        "- (ii) rook, \r\n",
        "- (iii) king, \r\n",
        "- (iv) bishop. </p>\r\n",
        "Order the pieces by which pieces return quickest"
      ]
    },
    {
      "cell_type": "markdown",
      "metadata": {
        "id": "aDKDtEl8zpmT"
      },
      "source": [
        "Para referência, o tabuleiro de xadrez é dado por:"
      ]
    },
    {
      "cell_type": "markdown",
      "metadata": {
        "id": "6dj7WsytyaMc"
      },
      "source": [
        "![image.png](https://i.imgur.com/VR1raht.png)"
      ]
    },
    {
      "cell_type": "markdown",
      "metadata": {
        "id": "Of1pUzsXzs54"
      },
      "source": [
        "Da mesma forma que calculamos anteriormente, o tempo esperado de retorno para a peça p é $$\\frac{\\sum_{i} d_{p}(i)}{d_{p}(canto)}$$"
      ]
    },
    {
      "cell_type": "markdown",
      "metadata": {
        "id": "4mKtCvun1F2G"
      },
      "source": [
        "### Rook\r\n",
        "A torre é a mais fácil de fazer a conta. Perceba que, independentemente de qual posição ela ocupa, ela vai sempre ter grau $$d_{rook}(i) = d_{rook}(i_{row}) + d_{rook}(i_{rank}) = 7 + 7 = 14$$<p>\r\n",
        "![image.png](https://i.imgur.com/89hwVEg.png)"
      ]
    },
    {
      "cell_type": "markdown",
      "metadata": {
        "id": "n0NqwcVq2kim"
      },
      "source": [
        "Como todas as posições possuem o mesmo grau d_rook, $$\\mu_{rook} = \\frac{\\sum_{i} d_{rook}(i)}{d_{rook}(canto)} = \\frac{64d_{rook}}{d_{rook}} = 64$$"
      ]
    },
    {
      "cell_type": "code",
      "metadata": {
        "colab": {
          "base_uri": "https://localhost:8080/"
        },
        "id": "4tHXIWLgAIZx",
        "outputId": "7f1cfeac-9c64-42a5-d24f-a0eed6795bce"
      },
      "source": [
        "d_total_rook = 14*64\r\n",
        "d_corner_rook = 14\r\n",
        "e_rook = d_total_rook/d_corner_rook\r\n",
        "\r\n",
        "print(f\"Expected Return Time for Rook: {e_rook} steps\")"
      ],
      "execution_count": null,
      "outputs": [
        {
          "output_type": "stream",
          "text": [
            "Expected Return Time for Rook: 64.0 steps\n"
          ],
          "name": "stdout"
        }
      ]
    },
    {
      "cell_type": "markdown",
      "metadata": {
        "id": "Wa1TvMie4SN_"
      },
      "source": [
        "### Bishop\r\n",
        "O bispo é um pouco mais complicado. O bispo pode ser preto ou branco, e as casas possíveis para o bispo são apenas as casas da **mesma cor**. O grau do bispo é diferente para cada região do tabuleiro que está. Essas regiões são determinadas pela sua distância até a borda do tabuleiro.\r\n",
        "- Na borda do tabuleiro: d = 7 e 14 espaços.\r\n",
        "- A 1 espaço da borda do tabuuleiro: d = 9 e 10 espaços\r\n",
        "- A 2 espaços da Borda do tabuleiro: d = 11 e 6 espaços\r\n",
        "- A 3 espaços da Borda do tabuleiro: d = 13 e 2 espaços"
      ]
    },
    {
      "cell_type": "markdown",
      "metadata": {
        "id": "NaVb2xf94xO9"
      },
      "source": [
        "![image.png](https://i.imgur.com/RPZj7FW.png)"
      ]
    },
    {
      "cell_type": "code",
      "metadata": {
        "colab": {
          "base_uri": "https://localhost:8080/"
        },
        "id": "BgGSlZk4yZ--",
        "outputId": "fb0f126a-9a7c-42b0-a6c2-ab6e30655537"
      },
      "source": [
        "d_total_bishop = 14*7 + 10*9 + 6*11 + 13*2\r\n",
        "d_corner_bishop = 7\r\n",
        "e_bishop = d_total_bishop/d_corner_bishop\r\n",
        "\r\n",
        "print(f\"Expected Return Time for Bishop: {e_bishop} steps\")"
      ],
      "execution_count": null,
      "outputs": [
        {
          "output_type": "stream",
          "text": [
            "Expected Return Time for Bishop: 40.0 steps\n"
          ],
          "name": "stdout"
        }
      ]
    },
    {
      "cell_type": "markdown",
      "metadata": {
        "id": "3c4zyg227bI-"
      },
      "source": [
        "### King\r\n",
        "O rei tem grau diferente baseado na quantidade de \"lados\" do tabuleiro que ele tem fronteira.\r\n",
        "- Fronteira com 0 lados do tabuleiro: d = 8 e 36 espaços.\r\n",
        "- Fronteira com 1 lado do tabuleiro: d = 5 e 24 espaços.\r\n",
        "- Fronteira com 2 lados do tabuleiro (canto): d = 3 e 4 espaços."
      ]
    },
    {
      "cell_type": "markdown",
      "metadata": {
        "id": "eYlMcA9j9KdK"
      },
      "source": [
        "![image.png](https://i.imgur.com/18Z23Le.png)"
      ]
    },
    {
      "cell_type": "code",
      "metadata": {
        "colab": {
          "base_uri": "https://localhost:8080/"
        },
        "id": "zT-n3bqAxx7J",
        "outputId": "e923ee1c-f46c-4e31-d2be-7b3b7b3f5b8b"
      },
      "source": [
        "d_total_king = 8*36 + 5*24 + 3*4\r\n",
        "d_corner_king = 3\r\n",
        "e_king = d_total_king/d_corner_king\r\n",
        "\r\n",
        "print(f\"Expected Return Time for King: {e_king} steps\")"
      ],
      "execution_count": null,
      "outputs": [
        {
          "output_type": "stream",
          "text": [
            "Expected Return Time for King: 140.0 steps\n"
          ],
          "name": "stdout"
        }
      ]
    },
    {
      "cell_type": "markdown",
      "metadata": {
        "id": "pFK_VNMR9yug"
      },
      "source": [
        "### Queen\r\n",
        "O grau da rainha tem 2 componentes. \r\n",
        "- O do **bispo**, que varia de acordo com a distância pra borda do tabuleiro. A diferença é que a rainha pode ocupar todas as casas do tabuleiro.\r\n",
        "- O da **torre**, que é fixo e igual a 14 <p>\r\n",
        "Somamos as duas componentes no grau da rainha."
      ]
    },
    {
      "cell_type": "code",
      "metadata": {
        "colab": {
          "base_uri": "https://localhost:8080/"
        },
        "id": "3CsGJ52M-MWC",
        "outputId": "d05217f8-ee21-4476-a476-f2b20d8f9ad4"
      },
      "source": [
        "d_total_queen = (2*14)*(14+7) + (2*10)*(14+9) + (2*6)*(14+11) + (2*2)*(14+13)\r\n",
        "d_corner_queen = 21\r\n",
        "e_queen = d_total_queen/d_corner_queen\r\n",
        "\r\n",
        "print(f\"Expected Return Time for Queen: {round(e_queen, 2)} steps\")"
      ],
      "execution_count": null,
      "outputs": [
        {
          "output_type": "stream",
          "text": [
            "Expected Return Time for Queen: 69.33 steps\n"
          ],
          "name": "stdout"
        }
      ]
    },
    {
      "cell_type": "markdown",
      "metadata": {
        "id": "5U8r05pcBQI1"
      },
      "source": [
        "### Resposta\r\n",
        "\r\n",
        "Ordernando por menor tempo estimado de volta:"
      ]
    },
    {
      "cell_type": "code",
      "metadata": {
        "colab": {
          "base_uri": "https://localhost:8080/"
        },
        "id": "8h6L6JxCBYEZ",
        "outputId": "0292acbe-5a7f-4e1d-9aa0-59aefff7ec01"
      },
      "source": [
        "print(f\"Bishop: {round(e_bishop, 2)} steps\")\r\n",
        "print(f\"Rook: {round(e_rook, 2)} steps\")\r\n",
        "print(f\"Queen: {round(e_queen, 2)} steps\")\r\n",
        "print(f\"King: {round(e_king, 2)} steps\")"
      ],
      "execution_count": null,
      "outputs": [
        {
          "output_type": "stream",
          "text": [
            "Bishop: 40.0 steps\n",
            "Rook: 64.0 steps\n",
            "Queen: 69.33 steps\n",
            "King: 140.0 steps\n"
          ],
          "name": "stdout"
        }
      ]
    }
  ]
}